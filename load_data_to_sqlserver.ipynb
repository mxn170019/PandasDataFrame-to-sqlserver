{
 "cells": [
  {
   "cell_type": "code",
   "execution_count": 1,
   "metadata": {},
   "outputs": [
    {
     "data": {
      "text/html": [
       "<style>.container { width:100% !important; }</style>"
      ],
      "text/plain": [
       "<IPython.core.display.HTML object>"
      ]
     },
     "metadata": {},
     "output_type": "display_data"
    }
   ],
   "source": [
    "from IPython.core.display import display, HTML\n",
    "display(HTML(\"<style>.container { width:100% !important; }</style>\"))"
   ]
  },
  {
   "cell_type": "code",
   "execution_count": 10,
   "metadata": {},
   "outputs": [],
   "source": [
    "import os\n",
    "import pandas as pd\n",
    "from sqlalchemy import create_engine, inspect\n",
    "import pymysql\n",
    "\n",
    "from db_utils import *"
   ]
  },
  {
   "cell_type": "code",
   "execution_count": null,
   "metadata": {},
   "outputs": [],
   "source": [
    "S_DATA = os.path.join('..','sample_data.csv')\n",
    "load_to_table(CLEAN_FX_RATE_DATA, FO_FX_RATES)"
   ]
  },
  {
   "cell_type": "code",
   "execution_count": 18,
   "metadata": {},
   "outputs": [
    {
     "name": "stdout",
     "output_type": "stream",
     "text": [
      "Writing 60000 rows, 6 columns to table sample_data\n"
     ]
    },
    {
     "data": {
      "text/html": [
       "<div>\n",
       "<style scoped>\n",
       "    .dataframe tbody tr th:only-of-type {\n",
       "        vertical-align: middle;\n",
       "    }\n",
       "\n",
       "    .dataframe tbody tr th {\n",
       "        vertical-align: top;\n",
       "    }\n",
       "\n",
       "    .dataframe thead th {\n",
       "        text-align: right;\n",
       "    }\n",
       "</style>\n",
       "<table border=\"1\" class=\"dataframe\">\n",
       "  <thead>\n",
       "    <tr style=\"text-align: right;\">\n",
       "      <th></th>\n",
       "      <th>Store_id</th>\n",
       "      <th>Item_id</th>\n",
       "      <th>Quantity</th>\n",
       "      <th>Date</th>\n",
       "      <th>CREATED_DT</th>\n",
       "      <th>CREATED_BY</th>\n",
       "    </tr>\n",
       "  </thead>\n",
       "  <tbody>\n",
       "    <tr>\n",
       "      <th>0</th>\n",
       "      <td>store_0</td>\n",
       "      <td>item_0</td>\n",
       "      <td>26</td>\n",
       "      <td>2019-05-01</td>\n",
       "      <td>2019-10-09 20:45:47.104058</td>\n",
       "      <td>di_user</td>\n",
       "    </tr>\n",
       "    <tr>\n",
       "      <th>1</th>\n",
       "      <td>store_0</td>\n",
       "      <td>item_0</td>\n",
       "      <td>17</td>\n",
       "      <td>2019-05-02</td>\n",
       "      <td>2019-10-09 20:45:47.104058</td>\n",
       "      <td>di_user</td>\n",
       "    </tr>\n",
       "    <tr>\n",
       "      <th>2</th>\n",
       "      <td>store_0</td>\n",
       "      <td>item_1</td>\n",
       "      <td>47</td>\n",
       "      <td>2019-05-01</td>\n",
       "      <td>2019-10-09 20:45:47.104058</td>\n",
       "      <td>di_user</td>\n",
       "    </tr>\n",
       "    <tr>\n",
       "      <th>3</th>\n",
       "      <td>store_0</td>\n",
       "      <td>item_1</td>\n",
       "      <td>45</td>\n",
       "      <td>2019-05-02</td>\n",
       "      <td>2019-10-09 20:45:47.104058</td>\n",
       "      <td>di_user</td>\n",
       "    </tr>\n",
       "    <tr>\n",
       "      <th>4</th>\n",
       "      <td>store_0</td>\n",
       "      <td>item_2</td>\n",
       "      <td>18</td>\n",
       "      <td>2019-05-01</td>\n",
       "      <td>2019-10-09 20:45:47.104058</td>\n",
       "      <td>di_user</td>\n",
       "    </tr>\n",
       "  </tbody>\n",
       "</table>\n",
       "</div>"
      ],
      "text/plain": [
       "  Store_id Item_id  Quantity        Date                 CREATED_DT CREATED_BY\n",
       "0  store_0  item_0        26  2019-05-01 2019-10-09 20:45:47.104058    di_user\n",
       "1  store_0  item_0        17  2019-05-02 2019-10-09 20:45:47.104058    di_user\n",
       "2  store_0  item_1        47  2019-05-01 2019-10-09 20:45:47.104058    di_user\n",
       "3  store_0  item_1        45  2019-05-02 2019-10-09 20:45:47.104058    di_user\n",
       "4  store_0  item_2        18  2019-05-01 2019-10-09 20:45:47.104058    di_user"
      ]
     },
     "execution_count": 18,
     "metadata": {},
     "output_type": "execute_result"
    }
   ],
   "source": [
    "CLEAN_SAMPLE_DATA = os.path.join('sample_data.csv')\n",
    "load_to_table(CLEAN_SAMPLE_DATA, sample_data)"
   ]
  },
  {
   "cell_type": "code",
   "execution_count": null,
   "metadata": {},
   "outputs": [],
   "source": []
  }
 ],
 "metadata": {
  "kernelspec": {
   "display_name": "Python 3",
   "language": "python",
   "name": "python3"
  },
  "language_info": {
   "codemirror_mode": {
    "name": "ipython",
    "version": 3
   },
   "file_extension": ".py",
   "mimetype": "text/x-python",
   "name": "python",
   "nbconvert_exporter": "python",
   "pygments_lexer": "ipython3",
   "version": "3.7.2"
  }
 },
 "nbformat": 4,
 "nbformat_minor": 2
}
